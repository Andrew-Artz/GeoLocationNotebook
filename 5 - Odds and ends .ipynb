{
 "cells": [
  {
   "cell_type": "markdown",
   "metadata": {},
   "source": [
    "If you are starting out with a Wireless Access Point name then you have different choices.\n",
    "\n",
    "My first choice is not to use these paid services.   If you have access to the system you can convert this information to BSSID with information stored in the REGISTRY.\n",
    "\n",
    "Otherwise here are some online resources.\n",
    "http://3wifi.stascorp.com/map\n",
    "\n",
    "https://www.skyhook.com/submit-access-point\n",
    "\n",
    "https://radiocells.org/ Good covereage of Europe.  Not so good in US.\n",
    "\n",
    "\n",
    "PAID\n",
    "https://combain.com/\n",
    "\n",
    "If you have access to the system you can convert this information to BSSID with information stored in the REGISTRY.\n",
    "\n",
    "\n",
    "\n",
    "If you have more data such as the name, bssid and signal strength then you can find locations by triangulating them.  That means you are able to find location that do not appear in any of the wireless databases.\n",
    "\n",
    "Discuss how wireless triangulation works.\n",
    "\n",
    "Discuss \"Fuzzing\" wirless triangulation force Online Wifi service to give up Mac Addresses\n",
    "\n",
    "Problem.  Wigle and Mylinkov.org are the only two website that will let you submit a single mac address and retrieve a location.  All of the other websites want multiple mac addresses.\n",
    "\n",
    "Wireless Diagnotic information is rare in forensics data.\n"
   ]
  }
 ],
 "metadata": {
  "kernelspec": {
   "display_name": "Python 3",
   "language": "python",
   "name": "python3"
  },
  "language_info": {
   "codemirror_mode": {
    "name": "ipython",
    "version": 3
   },
   "file_extension": ".py",
   "mimetype": "text/x-python",
   "name": "python",
   "nbconvert_exporter": "python",
   "pygments_lexer": "ipython3",
   "version": "3.6.9"
  }
 },
 "nbformat": 4,
 "nbformat_minor": 2
}
