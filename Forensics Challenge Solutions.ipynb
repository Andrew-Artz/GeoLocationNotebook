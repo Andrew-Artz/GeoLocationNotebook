{
 "cells": [
  {
   "cell_type": "markdown",
   "metadata": {},
   "source": [
    "\n",
    "# Forensics Challenge 1 - The Outlook Web Access Attack\n",
    "\n",
    "The victim lost 1.2 million dollars in an Outlook Web Access Phishing attack. You have pulled all of the SUCCESSFUL LOGINS from the Outlook Administrator console. But there are THOUSANDS of IP addresses to look through. The original attack came from Iran. You decide to focus your attention on those requests that are from the same country of origin.\n",
    "\n",
    "```\n",
    "['144.12.97.175',\n",
    " '47.33.190.195',\n",
    " '54.213.136.220',\n",
    " '37.27.54.15',\n",
    " '91.107.252.94',\n",
    " '112.245.28.187',\n",
    " '77.198.208.109',\n",
    " '79.195.246.215',\n",
    " '109.219.196.231',\n",
    " '111.14.43.156',\n",
    " '102.111.174.6',\n",
    " '176.65.253.46',\n",
    " '102.155.114.82']\n",
    " ```\n",
    "\n",
    "Which IP Addresses originated in Iran?\n",
    "\n",
    "## Solutions\n",
    "\n",
    "One easy solution for this is to use the code we looked at in notebook title \"1 - IP Geolocation with Websites\".\n",
    "\n"
   ]
  },
  {
   "cell_type": "code",
   "execution_count": null,
   "metadata": {},
   "outputs": [],
   "source": [
    "import requests\n",
    "\n",
    "browser = requests.session()\n",
    "list_of_addresses = ['144.12.97.175', '47.33.190.195', '54.213.136.220', '37.27.54.15', '91.107.252.94', '112.245.28.187', '77.198.208.109', '79.195.246.215', '109.219.196.231', '111.14.43.156', '102.111.174.6', '176.65.253.46', '102.155.114.82']\n",
    "for each_ip in list_of_addresses:\n",
    "    url = f\"https://freegeoip.app/json/{each_ip}\"\n",
    "    result = browser.get(url).json()\n",
    "    print(f\"The country for IP Address {result.get('ip')} is {result.get('country_name')}\")"
   ]
  },
  {
   "cell_type": "markdown",
   "metadata": {},
   "source": [
    "# Forensics Challenge 2 - At the scene of the crime\n",
    "\n",
    "After obtaining the suspect's laptop you need to place him at the scene of the crime.  After pulling their wireless history from the registry, SRUM and Windows Event logs you come up with the following list of Wireless BSSIDs.  What locations can you place the suspects laptop at from the following Wireless BSSID addresses?\n",
    "\n",
    "```\n",
    "['70-0F-6A-32-2C-0F',\n",
    "'0C-F5-A4-96-CD-C7',\n",
    "'74-3E-2B-36-57-E8',\n",
    "'08-4F-A9-3C-F5-A0',\n",
    "'70-70-8B-29-12-81',\n",
    "'0C-F5-A4-96-CD-CB']\n",
    "```\n",
    "\n",
    "## Solution\n",
    "\n",
    "Here is one way you could solve this one. We combine various techniques used in notebook \"4 - Geolocating Multiple Access Points\"."
   ]
  },
  {
   "cell_type": "code",
   "execution_count": null,
   "metadata": {},
   "outputs": [],
   "source": [
    "import requests\n",
    "import itertools\n",
    "    \n",
    "key = 'copy and paste mark baggetts API key here'\n",
    "\n",
    "list_of_aps = ['70-0F-6A-32-2C-0F',\n",
    "'0C-F5-A4-96-CD-C7',\n",
    "'74-3E-2B-36-57-E8',\n",
    "'08-4F-A9-3C-F5-A0',\n",
    "'70-70-8B-29-12-81',\n",
    "'0C-F5-A4-96-CD-CB']\n",
    "\n",
    "def find_location(list_of_aps, key):\n",
    "    url = f'https://www.googleapis.com/geolocation/v1/geolocate?key={key}' \n",
    "    ap_list = []\n",
    "    for mac in list_of_aps:\n",
    "        ap_list.append({\"macAddress\":mac ,\"signalStrength\":\"-60\"})\n",
    "    google_data = {\"considerIP\": \"false\", \"wifiAccessPoints\": ap_list}\n",
    "    response = requests.post(url=url, json=google_data)    \n",
    "    loc_record = response.json()\n",
    "    lat = loc_record.get(\"location\").get(\"lat\")\n",
    "    lng = loc_record.get(\"location\").get(\"lng\")\n",
    "    accuracy = loc_record.get('accuracy')\n",
    "    return accuracy, f\"http://maps.google.com/maps?q={lat:0>3.9f},{lng:0>3.9f}&z=15\"\n",
    "\n",
    "my_location = find_location(['00-00-00-00-00-00','11-11-11-11-11-11'],key)\n",
    "for each_pair in itertools.combinations(list_of_aps,2):\n",
    "    location = find_location(each_pair, key)\n",
    "    if location != my_location:\n",
    "        print(f\"WIFI {str(each_pair)}  Accuracy {location[0]}. Link {location[1]}\")\n",
    "    else:\n",
    "        print(f\"WIFI {str(each_pair)} not found\")\n"
   ]
  }
 ],
 "metadata": {
  "kernelspec": {
   "display_name": "Python 3",
   "language": "python",
   "name": "python3"
  },
  "language_info": {
   "codemirror_mode": {
    "name": "ipython",
    "version": 3
   },
   "file_extension": ".py",
   "mimetype": "text/x-python",
   "name": "python",
   "nbconvert_exporter": "python",
   "pygments_lexer": "ipython3",
   "version": "3.6.9"
  }
 },
 "nbformat": 4,
 "nbformat_minor": 2
}
