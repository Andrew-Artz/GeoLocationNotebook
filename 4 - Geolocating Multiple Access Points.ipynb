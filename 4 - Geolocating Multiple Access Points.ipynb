{
 "cells": [
  {
   "cell_type": "markdown",
   "metadata": {},
   "source": [
    "# When you have Multiple Access Points\n",
    "\n",
    "Now lets discuss how to find a location when you have multiple access points. You can find this information in a couple of different places.\n",
    "\n",
    "You can do this manually.  If a criminal accesses a website, opens an office document, or runs a java applet then you can collect this information from their computers with the following Windows Command.\n",
    "\n",
    "\"netsh wlan show networks mode=bssid | findstr \"SSID Signal Channel\"\n",
    "\n",
    "This is the technique used by the \"HoneyBadger\" project.\n",
    "https://github.com/lanmaster53/honeybadger\n",
    "\n",
    "Setup can be a bit complicated so you might be more interested in his SAAS solution.\n",
    "https://hb.lanmaster53.com/\n",
    "\n",
    "**Speak with your legal team**\n",
    "\n",
    "But this information also appears in the windows event logs when \"Diagnose my network\" buttons are clicked.  They are in event ID 6100.  Not all 6100 events have the wireless access points.\n",
    "\n",
    "\n",
    "\n",
    "![alt text](images/Event6100.jpg \"Event 6100\")\n",
    "\n",
    "\n",
    "Google provides an API that will provide a precise location when this information is available.  The first step is to build a data structure that google requires to resolve youre request.\n",
    "\n"
   ]
  },
  {
   "cell_type": "code",
   "execution_count": null,
   "metadata": {},
   "outputs": [],
   "source": [
    "log_data = \"\"\"\n",
    "List of visible access point(s): 17 item(s) total, 17 item(s) displayed\n",
    "        BSSID\t\tBSS Type PHY\tSignal(dB)\tChnl/freq    SSID\n",
    "-------------------------------------------------------------------------\n",
    "1E-8D-CB-84-FA-DF\tInfra\t <unknown>\t-62\t\t5745000\t ARFF\n",
    "06-8D-CB-84-FA-DF\tInfra\t <unknown>\t-63\t\t5745000\t ARAwifi1\n",
    "0A-8D-CB-84-FA-DF\tInfra\t <unknown>\t-62\t\t5745000\t AirportPrivateWiFi\n",
    "0E-8D-CB-84-FA-DF\tInfra\t <unknown>\t-63\t\t5745000\t Airport_Wifi\n",
    "02-8D-DB-84-FA-DF\tInfra\t <unknown>\t-44\t\t11\t (Unnamed Network)\n",
    "1E-8D-DB-84-FA-DF\tInfra\t <unknown>\t-44\t\t11\t ARFF\n",
    "06-8D-DB-84-FA-DF\tInfra\t <unknown>\t-44\t\t11\t ARAwifi1\n",
    "0A-8D-DB-84-FA-DF\tInfra\t <unknown>\t-44\t\t11\t AirportPrivateWiFi\n",
    "0C-8D-DB-84-FA-DF\tInfra\t <unknown>\t-42\t\t11\t Airport_Wifi\n",
    "F4-39-09-61-0E-1F\tInfra\t <unknown>\t-74\t\t6\t DIRECT-1E-HP OfficeJet Pro 8710\n",
    "B2-C1-9E-51-BE-D3\tInfra\t <unknown>\t-51\t\t6\t ATT-WIFI-3191\n",
    "FA-E4-F0-BE-E3-01\tInfra\t <unknown>\t-58\t\t6\t Esneepez\n",
    "54-75-D0-84-2E-F9\tInfra\t g\t-54\t\t4\t Tailwinds Wi-Fi\n",
    "54-75-D0-84-2E-F8\tInfra\t g\t-54\t\t4\t (Unnamed Network)\n",
    "5C-B0-66-D8-07-F6\tInfra\t <unknown>\t-57\t\t1\t SBG6580-2-FD39B\n",
    "6A-E7-C2-C5-D2-BD\tInfra\t <unknown>\t-60\t\t1\t Samsung Galaxy_8515\n",
    "0C-8C-24-6F-9E-28\tInfra\t <unknown>\t-84\t\t10\t SNRS_6F9E28\n",
    "\"\"\""
   ]
  },
  {
   "cell_type": "markdown",
   "metadata": {},
   "source": [
    "\n",
    "First we will use some regular expressions which are covered extensively in SEC573 to extract all of the BSSID and signal strengths from the record.\n"
   ]
  },
  {
   "cell_type": "code",
   "execution_count": null,
   "metadata": {},
   "outputs": [],
   "source": [
    "import re\n",
    "ap_data = re.findall(r\"([\\dA-F-]+)\\s+?Infra.*?(-\\d+)\", log_data, re.MULTILINE)\n",
    "ap_data"
   ]
  },
  {
   "cell_type": "markdown",
   "metadata": {},
   "source": [
    "\n",
    "Next we build the JSON data structure that Googles API is expecting us to submit and we make the request.  Once we get back the record we extract the latitude and longitude and generate a google maps link.\n"
   ]
  },
  {
   "cell_type": "code",
   "execution_count": null,
   "metadata": {
    "scrolled": true
   },
   "outputs": [],
   "source": [
    "ap_list = []\n",
    "for mac,signal in ap_data:\n",
    "    ap_list.append({\"macAddress\":mac ,\"signalStrength\":signal})\n",
    "google_data = {\"considerIP\": \"false\", \"wifiAccessPoints\": ap_list}\n",
    "google_data\n"
   ]
  },
  {
   "cell_type": "markdown",
   "metadata": {},
   "source": [
    "\n",
    "This data structure can now be submitted to googles API. But you have to have an API key.  To get an API key you have to provide google with a Credit Card. Rather than asking you to do this I'm going to give you my API key which is associated with my personal credit card. So please be kind and limit your request to those required for todays lab.\n"
   ]
  },
  {
   "cell_type": "code",
   "execution_count": null,
   "metadata": {},
   "outputs": [],
   "source": [
    "import requests\n",
    "\n",
    "#First borrow Mark Baggetts personal API key (please be kind)\n",
    "#Change the IP to the one provided in class\n",
    "key = requests.get(\"http://127.0.0.1:8000/key.txt\").text\n",
    "\n",
    "#Then generate the request\n",
    "url = f'https://www.googleapis.com/geolocation/v1/geolocate?key={key}'    \n",
    "response = requests.post(url=url, json=google_data)    \n",
    "\n",
    "#Then extract the data and print a google maps link\n",
    "loc_record = response.json()\n",
    "lat = loc_record.get(\"location\").get(\"lat\")\n",
    "lng = loc_record.get(\"location\").get(\"lng\")\n",
    "maps_url = f\"http://maps.google.com/maps?q={lat:0>3.9f},{lng:0>3.9f}&z=15\"\n",
    "print(loc_record.get(\"accuracy\"))\n",
    "print(maps_url)\n"
   ]
  },
  {
   "cell_type": "markdown",
   "metadata": {},
   "source": [
    "\n",
    "Thats amazing.  It has an accuracy of approximatly 20 meters. But what if you are not lucky enough to find an event 6100. They are in fact rather rare to find on a forensics investigation.  What if rather than an event 6100 you are able to determine just two BSSIDs?   The google API will allow you to submit two BSSIDs with no signal strength.\n"
   ]
  },
  {
   "cell_type": "code",
   "execution_count": null,
   "metadata": {},
   "outputs": [],
   "source": [
    "ap_data = [('0C-8C-24-6F-9E-28'), ('0C-8D-DB-84-FA-DF')]\n",
    "ap_list = []\n",
    "for mac in ap_data:\n",
    "    ap_list.append({\"macAddress\":mac})\n",
    "                                   \n",
    "response = requests.post(url=url, json= {\"considerIP\": \"false\", \"wifiAccessPoints\": ap_list})    \n",
    "loc_record = response.json()\n",
    "lat = loc_record.get(\"location\").get(\"lat\")\n",
    "lng = loc_record.get(\"location\").get(\"lng\")\n",
    "maps_url = f\"http://maps.google.com/maps?q={lat:0>3.9f},{lng:0>3.9f}&z=15\"\n",
    "print(loc_record.get(\"accuracy\"))\n",
    "print(maps_url)"
   ]
  },
  {
   "cell_type": "markdown",
   "metadata": {},
   "source": [
    "\n",
    "\n",
    "Our accuracy fell way down.  As a matter a fact, without the Signal strength it appears that google will always give you an accuracy of 150 meters.\n",
    "\n",
    "Perhaps 150 meters is good enough. If not we can guess to force googles algorithms to give us a better location. Most of the time the signal strenght is somewhere between -40 and -90.  Anecdotially I believe the average is round -60. By setting an arbitrary signal strength of -60 we force google to choose the point that is equal distinace from the access points which is a better approximation than the generic response of 150 meters.\n",
    "\n",
    "This time I will put this into a function that you can call.  The function requires that you pass it a list of BSSIDs and the google API key.  It returns back to you both the accuracy and a URL that you can use to see the location.\n",
    "\n"
   ]
  },
  {
   "cell_type": "code",
   "execution_count": null,
   "metadata": {},
   "outputs": [],
   "source": [
    "def find_location(list_of_aps, key):\n",
    "    url = f'https://www.googleapis.com/geolocation/v1/geolocate?key={key}'       \n",
    "    ap_list = []\n",
    "    for mac in list_of_aps:\n",
    "        ap_list.append({\"macAddress\":mac ,\"signalStrength\":\"-60\"})\n",
    "    google_data = {\"considerIP\": \"false\", \"wifiAccessPoints\": ap_list}\n",
    "    response = requests.post(url=url, json=google_data)    \n",
    "    loc_record = response.json()\n",
    "    lat = loc_record.get(\"location\").get(\"lat\")\n",
    "    lng = loc_record.get(\"location\").get(\"lng\")\n",
    "    accuracy = loc_record.get('accuracy')\n",
    "    return accuracy, f\"http://maps.google.com/maps?q={lat:0>3.9f},{lng:0>3.9f}&z=15\"\n",
    "\n",
    "print(\"Here is a good response from google.\")\n",
    "ap_data = [('0C-8C-24-6F-9E-28'), ('0C-8D-DB-84-FA-DF')]\n",
    "the_accuracy,the_url = find_location(ap_data, key)\n",
    "print(f\"The accuracy is {the_accuracy}\")\n",
    "print(the_url)\n",
    "\n",
    "print(\"\\n\\nHere is a response from google when we send it made up BSSIDs.\")\n",
    "ap_data = [('11-22-33-44-55-66'), ('AA-BB-CC-DD-EE-FF')]\n",
    "the_accuracy,the_url = find_location(ap_data, key)\n",
    "print(f\"The accuracy is {the_accuracy}\")\n",
    "print(the_url)\n",
    "\n"
   ]
  },
  {
   "cell_type": "markdown",
   "metadata": {},
   "source": [
    "\n",
    "When google doesn't have any information about the Wireless access point pairs you provide it gives you a link to your current location based upon the IP address you are submitting it from. The accuracy will change depending upon your location. So don't use a high accuracy to detect when it doesn't have data.  Instead submit one request with made up BSSIDs and check to see if the responses match that.\n",
    "\n",
    "Using this we can discover access point locations when google knows about any two of them that we find in history. Consider this scenario.  You find artificts on the laptop that indicate it was in the vicinity of 5 access points.   We will call them  AP1, AP2, AP3, AP4 and AP5.  Some of those APs may be in far off distant locations but other may be close enough to one another to establish a location.  \n",
    "\n",
    "![alt text](images/aps.png \"AP Locations\")\n",
    "\n",
    "\n",
    "### We ask google about locations.\n",
    "\n",
    "We ask: Whats the location of AP1 and AP2?\n",
    "\n",
    "Google: Here is a link to your current location (ie I don't know)\n",
    "\n",
    "We ask: Whats the location of AP1 and AP3?\n",
    "\n",
    "Google: Here is a link to your current location\n",
    "\n",
    "We ask: Whats the location of AP1 and AP4?\n",
    "\n",
    "Google: Google gives a location which by itself would be somewhere along the blue line.\n",
    "\n",
    "We ask: Whats the location of AP1 and AP5?\n",
    "\n",
    "Google: Here is a link to your current location\n",
    "\n",
    "We ask: Whats the location of AP2 and AP3?\n",
    "\n",
    "Google: Here is a link to your current location\n",
    "\n",
    "We ask: Whats the locationa of AP2 and AP4?\n",
    "\n",
    "Google: Google gives you a location which by itself would be somewhere along the green line. \n",
    "\n",
    "Now, by looking at the intersection of these sets we can identify that AP4 has a relationship with both AP2 and AP1. Then ...\n",
    "\n",
    "We ask: What is the location of AP1, AP2, and AP4?\n",
    "\n",
    "Google: Google gives us a location somewhere close to the purple square in the middle.\n",
    "\n",
    "Repeating this process we can find locations that would otherwise be inaccessible through most APIs.\n",
    "\n",
    "Python also makes building combinations of pretty simple by calling itertools.combinations.\n"
   ]
  },
  {
   "cell_type": "code",
   "execution_count": null,
   "metadata": {},
   "outputs": [],
   "source": [
    "import itertools\n",
    "\n",
    "list_of_aps = ['AP1','AP2','AP3','AP4','AP5']\n",
    "list(itertools.combinations(list_of_aps,2))"
   ]
  }
 ],
 "metadata": {
  "kernelspec": {
   "display_name": "Python 3",
   "language": "python",
   "name": "python3"
  },
  "language_info": {
   "codemirror_mode": {
    "name": "ipython",
    "version": 3
   },
   "file_extension": ".py",
   "mimetype": "text/x-python",
   "name": "python",
   "nbconvert_exporter": "python",
   "pygments_lexer": "ipython3",
   "version": "3.6.9"
  }
 },
 "nbformat": 4,
 "nbformat_minor": 2
}
