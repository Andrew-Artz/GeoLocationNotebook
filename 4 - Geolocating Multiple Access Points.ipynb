{
 "cells": [
  {
   "cell_type": "markdown",
   "metadata": {},
   "source": [
    "# When you have Multiple Access Points\n",
    "\n",
    "If you have access to multiple access points and their associated signal strength then you can triangulate a position based upon that information with several online APIs. This is one of the ways our phones and web browsers will identify our current location. You may have seen a message from your MAPS app on your phone that says something like \"This works better if you turn on your wireless\". If you obtain multiple access points that the laptop has been near you can use that same technique to identify its position.\n",
    "\n",
    "### Unmasking VPNed and spoofed IPs with active collection\n",
    "First, let's discuss how to obtain artifacts that include multiple access points. One way would be to persuade visitors to a website that will actively query this information and give it to you. This is the technique used by the honeybadger project.  When a visitor to the website opens an office document, java applet, .HTA file or downloads and runs a Powershell script it queries the wireless information in the background and submits it to the website.  It gets the wireless information by running the command below.  Give this a try!   If you have wireless capabilities on your current Windows device run the following in a Windows Command prompt.\n",
    "```\n",
    "\"netsh wlan show networks mode=bssid | findstr \"SSID Signal Channel\"\n",
    "```\n",
    "\n",
    "You see it shows a list of all the access points that are near your computer and their signal strengths. Honeybadger collects this data and uses it to identify the individual's location.   Because this is based on the physical location of Wireless Access Points and not an IP address that can be spoofed or hidden behind a VPN this is a reliable way to identify the location of a device that is actively trying to hide their location.\n",
    "The \"HoneyBadger\" project can be downloaded for free here: https://github.com/lanmaster53/honeybadger\n",
    "The Setup of the Honeybadger server can be a little overwhelming so Tim Tomes also offers HoneyBadger as a paid subscription service.  https://hb.lanmaster53.com/\n",
    "This tool does, after asking for permission, execute the command above on the targets machine.  You will want to **check with your legal counsel** before using this tool.\n",
    "Let me do a quick demo of the paid service.\n",
    "https://hb.lanmaster53.com/\n",
    "\n",
    "### Looking up APs found in forensics images\n",
    "You can also just collect these artifacts as part of a forensics investigation.  We can easily pick up a few access points from the registry, SRUM and other Windows artifacts.  This information also appears in the windows event logs when \"Diagnose my network\" buttons are clicked.  When you run the diagnostic it generates several events with an ID of 6100. One of those 6100 events has a list of all the wireless access points and signal strengths at the time of the diagnostic.\n",
    "\n",
    "![alt text](images/Event6100.jpg \"Event 6100\")\n",
    "\n",
    "\n",
    "Take that Event 6100 information and triangulate it using Googles API.  This next cell will put the text from a 6100 event into a variable named log_data.   We will pretend that you have used your awesome SEC573 skills to retrieve it from an event log on the target computer.\n",
    "\n"
   ]
  },
  {
   "cell_type": "code",
   "execution_count": null,
   "metadata": {},
   "outputs": [],
   "source": [
    "log_data = \"\"\"\n",
    "List of visible access point(s): 17 item(s) total, 17 item(s) displayed\n",
    "        BSSID\t\tBSS Type PHY\tSignal(dB)\tChnl/freq    SSID\n",
    "-------------------------------------------------------------------------\n",
    "1E-8D-CB-84-FA-DF\tInfra\t <unknown>\t-62\t\t5745000\t ARFF\n",
    "06-8D-CB-84-FA-DF\tInfra\t <unknown>\t-63\t\t5745000\t ARAwifi1\n",
    "0A-8D-CB-84-FA-DF\tInfra\t <unknown>\t-62\t\t5745000\t AirportPrivateWiFi\n",
    "0E-8D-CB-84-FA-DF\tInfra\t <unknown>\t-63\t\t5745000\t Airport_Wifi\n",
    "02-8D-DB-84-FA-DF\tInfra\t <unknown>\t-44\t\t11\t (Unnamed Network)\n",
    "1E-8D-DB-84-FA-DF\tInfra\t <unknown>\t-44\t\t11\t ARFF\n",
    "06-8D-DB-84-FA-DF\tInfra\t <unknown>\t-44\t\t11\t ARAwifi1\n",
    "0A-8D-DB-84-FA-DF\tInfra\t <unknown>\t-44\t\t11\t AirportPrivateWiFi\n",
    "0C-8D-DB-84-FA-DF\tInfra\t <unknown>\t-42\t\t11\t Airport_Wifi\n",
    "F4-39-09-61-0E-1F\tInfra\t <unknown>\t-74\t\t6\t DIRECT-1E-HP OfficeJet Pro 8710\n",
    "B2-C1-9E-51-BE-D3\tInfra\t <unknown>\t-51\t\t6\t ATT-WIFI-3191\n",
    "FA-E4-F0-BE-E3-01\tInfra\t <unknown>\t-58\t\t6\t Esneepez\n",
    "54-75-D0-84-2E-F9\tInfra\t g\t-54\t\t4\t Tailwinds Wi-Fi\n",
    "54-75-D0-84-2E-F8\tInfra\t g\t-54\t\t4\t (Unnamed Network)\n",
    "5C-B0-66-D8-07-F6\tInfra\t <unknown>\t-57\t\t1\t SBG6580-2-FD39B\n",
    "6A-E7-C2-C5-D2-BD\tInfra\t <unknown>\t-60\t\t1\t Samsung Galaxy_8515\n",
    "0C-8C-24-6F-9E-28\tInfra\t <unknown>\t-84\t\t10\t SNRS_6F9E28\n",
    "\"\"\""
   ]
  },
  {
   "cell_type": "markdown",
   "metadata": {},
   "source": [
    "\n",
    "First we will use some regular expressions which are covered extensively in SEC573 to extract all of the BSSID and signal strengths from the text in the Event Log.  Execute the next cell to extract the data from the log_data variable set in the previous cell.\n"
   ]
  },
  {
   "cell_type": "code",
   "execution_count": null,
   "metadata": {},
   "outputs": [],
   "source": [
    "import re\n",
    "ap_data = re.findall(r\"([\\dA-F-]+)\\s+?Infra.*?(-\\d+)\", log_data, re.MULTILINE)\n",
    "ap_data"
   ]
  },
  {
   "cell_type": "markdown",
   "metadata": {},
   "source": [
    "\n",
    "Next we build the JSON data structure that Googles API is expecting us to submit and we make the request. In this data structure we define several \"macAddress\" and \"signalStrength\" fields in a JSON record that matches the specification for Google's API.\n"
   ]
  },
  {
   "cell_type": "code",
   "execution_count": null,
   "metadata": {
    "scrolled": true
   },
   "outputs": [],
   "source": [
    "ap_list = []\n",
    "for mac,signal in ap_data:\n",
    "    ap_list.append({\"macAddress\":mac ,\"signalStrength\":signal})\n",
    "google_data = {\"considerIP\": \"false\", \"wifiAccessPoints\": ap_list}\n",
    "google_data\n"
   ]
  },
  {
   "cell_type": "markdown",
   "metadata": {},
   "source": [
    "\n",
    "This data structure can now be submitted to googles API. But you have to have an API key.  To get an API key you have to provide google with a Credit Card. Rather than asking you to do this I'm going to give you my API key which is associated with my personal credit card. So please be kind and limit your request to those required for todays lab. Once we get back the record we extract the latitude and longitude and generate a google maps link. After executing the next cell you can open the google maps link in another window to see where the laptop was when the event 6100 was generated.\n"
   ]
  },
  {
   "cell_type": "code",
   "execution_count": null,
   "metadata": {},
   "outputs": [],
   "source": [
    "import requests\n",
    "\n",
    "#First borrow Mark Baggetts personal API key (please be kind)\n",
    "#Change the IP to the one provided in class\n",
    "key = '<copy and paste marks personal API key here>'\n",
    "\n",
    "#Then generate the request\n",
    "url = f'https://www.googleapis.com/geolocation/v1/geolocate?key={key}'    \n",
    "response = requests.post(url=url, json=google_data)    \n",
    "\n",
    "#Then extract the data and print a google maps link\n",
    "loc_record = response.json()\n",
    "lat = loc_record.get(\"location\").get(\"lat\")\n",
    "lng = loc_record.get(\"location\").get(\"lng\")\n",
    "maps_url = f\"http://maps.google.com/maps?q={lat:0>3.9f},{lng:0>3.9f}&z=15\"\n",
    "print(loc_record.get(\"accuracy\"))\n",
    "print(maps_url)\n"
   ]
  },
  {
   "cell_type": "markdown",
   "metadata": {},
   "source": [
    "\n",
    "That's amazing. It has an accuracy of approximately 20 meters. But what if you are not lucky enough to find an event 6100. They are in fact rather rare to find on a forensics investigation. What if rather than an event 6100 you are only able to find two BSSIDs in the registry? At a minimum, google API will allow you to submit two BSSIDs with no signal strength. Try it to see what happens.\n"
   ]
  },
  {
   "cell_type": "code",
   "execution_count": null,
   "metadata": {},
   "outputs": [],
   "source": [
    "ap_data = [('0C-8C-24-6F-9E-28'), ('0C-8D-DB-84-FA-DF')]\n",
    "ap_list = []\n",
    "for mac in ap_data:\n",
    "    ap_list.append({\"macAddress\":mac})\n",
    "                                   \n",
    "response = requests.post(url=url, json= {\"considerIP\": \"false\", \"wifiAccessPoints\": ap_list})    \n",
    "loc_record = response.json()\n",
    "lat = loc_record.get(\"location\").get(\"lat\")\n",
    "lng = loc_record.get(\"location\").get(\"lng\")\n",
    "maps_url = f\"http://maps.google.com/maps?q={lat:0>3.9f},{lng:0>3.9f}&z=15\"\n",
    "print(loc_record.get(\"accuracy\"))\n",
    "print(maps_url)"
   ]
  },
  {
   "cell_type": "markdown",
   "metadata": {},
   "source": [
    "\n",
    "\n",
    "Our accuracy fell way down.  As a matter a fact, without the Signal strength it appears that google will always give you an accuracy of 150 meters.\n",
    "\n",
    "Perhaps 150 meters is good enough. If not we can submit a fake signal strength to force googles algorithms to give us a better location. Most of the time the signal strength is somewhere between -40 and -90.  Anecdotally I believe the average is round -60. By setting an arbitrary signal strength of -60 we force google to choose the most accurate point that is equal distance from the access points.\n",
    "\n",
    "This time I will put this into a function that you can call.  The function find_location() defined below requires that you pass it a list of BSSIDs and the google API key.  It returns back to you both the accuracy and a URL that you can use to see the location.\n",
    "\n",
    "In the next cell we create the find_location() function and we call it with two sets of wireless APs.  The first set is pulled from the event 6100 above. The second set is made up of access points that shouldn't exist anywhere.  Let's run this and look at the results.\n",
    "\n",
    "\n"
   ]
  },
  {
   "cell_type": "code",
   "execution_count": null,
   "metadata": {},
   "outputs": [],
   "source": [
    "def find_location(list_of_aps, key):\n",
    "    url = f'https://www.googleapis.com/geolocation/v1/geolocate?key={key}'       \n",
    "    ap_list = []\n",
    "    for mac in list_of_aps:\n",
    "        ap_list.append({\"macAddress\":mac ,\"signalStrength\":\"-60\"})\n",
    "    google_data = {\"considerIP\": \"false\", \"wifiAccessPoints\": ap_list}\n",
    "    response = requests.post(url=url, json=google_data)    \n",
    "    loc_record = response.json()\n",
    "    lat = loc_record.get(\"location\").get(\"lat\")\n",
    "    lng = loc_record.get(\"location\").get(\"lng\")\n",
    "    accuracy = loc_record.get('accuracy')\n",
    "    return accuracy, f\"http://maps.google.com/maps?q={lat:0>3.9f},{lng:0>3.9f}&z=15\"\n",
    "\n",
    "print(\"Here is a good response from google.\")\n",
    "ap_data = [('0C-8C-24-6F-9E-28'), ('0C-8D-DB-84-FA-DF')]\n",
    "the_accuracy,the_url = find_location(ap_data, key)\n",
    "print(f\"The accuracy is {the_accuracy}\")\n",
    "print(the_url)\n",
    "\n",
    "print(\"\\n\\nHere is a response from google when we send it made up BSSIDs.\")\n",
    "ap_data = [('11-22-33-44-55-66'), ('AA-BB-CC-DD-EE-FF')]\n",
    "the_accuracy,the_url = find_location(ap_data, key)\n",
    "print(f\"The accuracy is {the_accuracy}\")\n",
    "print(the_url)\n",
    "\n"
   ]
  },
  {
   "cell_type": "markdown",
   "metadata": {},
   "source": [
    "\n",
    "Our accuracy went back up for the two access points.  It is almost as good as when we submitted a half dozen access points. But what about that second link? Was google able to geolocation our imaginary made up access points?  Where does that one lead? It points at you!\n",
    "\n",
    "When google doesn't have any information about the Wireless access point pairs you provide it gives you a link to your current location based upon the IP address you are submitting it from. This is the \"I don't know\" answer from google.  You need to detect that your script.  Don't try to do it based on the accuracy.  The accuracy will change depending upon your location. Instead submit one request with made up BSSIDs and check to see if the location in all future responses match that. Using this technique we can discover access point locations when google knows about any two AP's we manage to find on the system. You just have to pair up the Access Points.\n",
    "\n",
    "Consider this scenario.  You find artifacts on the laptop that indicate it was in the vicinity of 5 access points.   We will call them AP1, AP2, AP3, AP4 and AP5.  Some of those APs may be in far off distant locations that google cannot triangulate but other may be close enough to one another to establish a location. \n",
    "\n",
    "![alt text](images/aps.png \"AP Locations\")\n",
    "\n",
    "\n",
    "### We ask google about locations.\n",
    "\n",
    "We ask: What's the location of AP1 and AP2?\n",
    "\n",
    "Google: Here is a link to your current location (ie I don't know)\n",
    "\n",
    "We ask: What's the location of AP1 and AP3?\n",
    "\n",
    "Google: Here is a link to your current location\n",
    "\n",
    "We ask: Whats the location of AP1 and AP4?\n",
    "\n",
    "Google: Google gives a location which by itself would be somewhere along the blue line.\n",
    "\n",
    "We ask: What's the location of AP1 and AP5?\n",
    "\n",
    "Google: Here is a link to your current location\n",
    "\n",
    "We ask: What's the location of AP2 and AP3?\n",
    "\n",
    "Google: Here is a link to your current location\n",
    "\n",
    "We ask: What's the locationa of AP2 and AP4?\n",
    "\n",
    "Google: Google gives you a location which by itself would be somewhere along the green line. \n",
    "\n",
    "Now, by looking at the intersection of these sets we can identify that AP4 has a relationship with both AP2 and AP1. Then ...\n",
    "\n",
    "We ask: What is the location of AP1, AP2, and AP4?\n",
    "\n",
    "Google: Google gives us a location somewhere close to the purple square in the middle.\n",
    "\n",
    "Repeating this process we can find locations that would otherwise be inaccessible through most APIs.\n",
    "\n",
    "### Building our sets of APs\n",
    "Now, with just a disconnected set of Wireless APs that we find in various artifacts on the computer we can build a list of AP pairs and find their locations. Python also makes building combinations of pretty simple by calling itertools.combinations. Try this next cell to see how you would do that.\n"
   ]
  },
  {
   "cell_type": "code",
   "execution_count": null,
   "metadata": {},
   "outputs": [],
   "source": [
    "import itertools\n",
    "\n",
    "list_of_aps = ['AP1','AP2','AP3','AP4','AP5']\n",
    "list(itertools.combinations(list_of_aps,2))"
   ]
  },
  {
   "cell_type": "code",
   "execution_count": null,
   "metadata": {},
   "outputs": [],
   "source": []
  }
 ],
 "metadata": {
  "kernelspec": {
   "display_name": "Python 3",
   "language": "python",
   "name": "python3"
  },
  "language_info": {
   "codemirror_mode": {
    "name": "ipython",
    "version": 3
   },
   "file_extension": ".py",
   "mimetype": "text/x-python",
   "name": "python",
   "nbconvert_exporter": "python",
   "pygments_lexer": "ipython3",
   "version": "3.6.9"
  }
 },
 "nbformat": 4,
 "nbformat_minor": 2
}
