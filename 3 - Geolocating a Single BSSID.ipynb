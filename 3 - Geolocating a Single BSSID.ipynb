{
 "cells": [
  {
   "cell_type": "markdown",
   "metadata": {},
   "source": [
    "# When you have a single Access Point (BSSID)\n",
    "\n",
    "Finding  wireless networks can be done in a variety of ways. Which way you use depends upon what you are starting out with. If all that you have is the \"BSSID\" (AKA the MAC Address)  of the wireless access point, then  your free choices are limited. Here is an example of a BSSID:\n",
    "\n",
    "`DE-AD-BE-EF-01-02` or more commonly when dealing with APIs they are colon delimited `ED:15:BA:DB:AD:ED` \n",
    "\n",
    "Mylnikov.org is a free website that will convert these MAC addresses to a location for you. It has 34.5 million plus records of wireless access points  (APs). Most of its data is for APs in Europe . In addition to its API, they make  their entire database downloadable as a CSV.\n",
    "\n",
    "Mylnikov.org doesn't require registration, so that means we you can immediately begin sending requests to it. \n"
   ]
  },
  {
   "cell_type": "code",
   "execution_count": null,
   "metadata": {},
   "outputs": [],
   "source": [
    "import requests\n",
    "browser = requests.session()\n",
    "bssid = \"00:0C:42:1F:65:E9\"\n",
    "bssid = \"28:28:5d:d6:39:8a\"\n",
    "url = \"http://api.mylnikov.org/geolocation/wifi\"\n",
    "response = browser.get(url , params = {\"v\":\"1.1\", \"data\":\"open\", \"bssid\":bssid} )\n",
    "response.content"
   ]
  },
  {
   "cell_type": "markdown",
   "metadata": {},
   "source": [
    "\n",
    "http://wigle.net is another website that has the ability to convert a single BSSID to a location. Of the two sites, wigle.net  has much more data, but you must have a registered account to use the API. Additionally, in my experience, the folks at wigle are very aggressive about protecting their data (as we all should be). They will likely block our location's IP address if multiple people begin making queries at the same time. That said, they are very nice people and I have found they are willing to bump the limits on your accounts and ensure continued access if you simply let them know what you're doing after you get blocked.\n",
    "\n",
    "The wigle.net API is only slightly more complicated. In addition to the BSSID you are looking for you also have to pass an \"auth\" argument containing an API Username and an API Password.\n",
    "\n",
    "You can register for an account here: https://wigle.net/login?destination=/account\n",
    "\n",
    "But please don't do that today. As I mentioned they are a little aggressive with blocking IP Addresses and I would like to be able to demonstrate how to use the website for you.\n",
    "\n",
    "Once you have an API username and password, this is what your code would look like. \n"
   ]
  },
  {
   "cell_type": "code",
   "execution_count": null,
   "metadata": {},
   "outputs": [],
   "source": [
    "#This is the BSSID of Wireless AP we are looking for\n",
    "bssid = 'aa:bb:cc:dd:ee:ff'\n",
    "#THese are our credentials to wigle and the wigle url\n",
    "wigle_user = \"###USERNAMEHERE###\"\n",
    "wigle_pass = \"###PASSWORDHERE###\"\n",
    "#The URL is commented out in hope of preventing you from running this one. As I said. \n",
    "#Id rather not get blocked befrore demoes.  You can unblock this line at home.\n",
    "#url = \"https://api.wigle.net/api/v2/network/search\"\n",
    "#Make the request\n",
    "webresp = requests.get(url, auth = (wigle_user,wigle_pass), params = {'netid' : bssid } )\n",
    "#Process the resposse\n",
    "webresp.json()"
   ]
  },
  {
   "cell_type": "markdown",
   "metadata": {},
   "source": [
    "\n",
    "Many things can go wrong when making a request to a website so normally we would wrap this call in an exception handling routine to gracefully handle errors.\n"
   ]
  },
  {
   "cell_type": "code",
   "execution_count": null,
   "metadata": {},
   "outputs": [],
   "source": [
    "try:\n",
    "     webresp = requests.get(url, auth = (wigle_user,wigle_pass), params = {'netid' : bssid } )\n",
    "except (requests.ConnectTimeout, requests.HTTPError, requests.ReadTimeout, requests.Timeout, requests.ConnectionError) as e:\n",
    "     log.info(f\"Web communications error {str(e)}\")\n",
    "except Exception as e:\n",
    "     log.info(f\"Error {str(e)}\")\n",
    "if webresp.status_code != 200:\n",
    "     log.info(\"{} There was an error from Wigle. {}\".format(\"*\"*25, webresp.reason))\n",
    "wigle_data = webresp.json()\n",
    "wigle_data"
   ]
  }
 ],
 "metadata": {
  "kernelspec": {
   "display_name": "Python 3",
   "language": "python",
   "name": "python3"
  },
  "language_info": {
   "codemirror_mode": {
    "name": "ipython",
    "version": 3
   },
   "file_extension": ".py",
   "mimetype": "text/x-python",
   "name": "python",
   "nbconvert_exporter": "python",
   "pygments_lexer": "ipython3",
   "version": "3.6.9"
  }
 },
 "nbformat": 4,
 "nbformat_minor": 2
}
