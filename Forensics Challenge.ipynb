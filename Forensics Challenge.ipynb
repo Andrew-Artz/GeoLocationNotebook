{
 "cells": [
  {
   "cell_type": "markdown",
   "metadata": {},
   "source": [
    "\n",
    "# Forensics Challenge 1 - The Outlook Web Access Attack\n",
    "The victim lost 1.2 million dollars in an Outlook Web Access Phishing attack.  You have pulled all of the SUCCESSFUL LOGINS from the Outlook Administrator console. But there are THOUSANDS of IP addresses to look through.  The original attack came from Iran.   You decide to focus your attention on those requests that are from the same country of origin.  \n",
    "\n",
    "```\n",
    "['144.12.97.175',\n",
    " '47.33.190.195',\n",
    " '54.213.136.220',\n",
    " '37.27.54.15',\n",
    " '91.107.252.94',\n",
    " '112.245.28.187',\n",
    " '77.198.208.109',\n",
    " '79.195.246.215',\n",
    " '109.219.196.231',\n",
    " '111.14.43.156',\n",
    " '102.111.174.6',\n",
    " '176.65.253.46',\n",
    " '102.155.114.82']\n",
    " ```\n",
    "\n",
    "Which IP Addresses originated in Iran?"
   ]
  },
  {
   "cell_type": "code",
   "execution_count": null,
   "metadata": {},
   "outputs": [],
   "source": []
  },
  {
   "cell_type": "markdown",
   "metadata": {},
   "source": [
    "# Forensics Challenge 2 - At the scene of the crime\n",
    "\n",
    "\n",
    "After obtaining the suspects laptop you need to place him at the scene of the crime.  After pulling their wireless history from the registry,srum and event lots you come up with the following list of Wireless BSSIDs.  What locations can you place the suspects laptop at from the following Wireless BSSID addresses?\n",
    "\n",
    "```\n",
    "['70-0F-6A-32-2C-0F',\n",
    "'0C-F5-A4-96-CD-C7',\n",
    "'74-3E-2B-36-57-E8',\n",
    "'08-4F-A9-3C-F5-A0',\n",
    "'70-70-8B-29-12-81',\n",
    "'0C-F5-A4-96-CD-CB']\n",
    "```\n"
   ]
  },
  {
   "cell_type": "code",
   "execution_count": null,
   "metadata": {},
   "outputs": [],
   "source": []
  }
 ],
 "metadata": {
  "kernelspec": {
   "display_name": "Python 3",
   "language": "python",
   "name": "python3"
  },
  "language_info": {
   "codemirror_mode": {
    "name": "ipython",
    "version": 3
   },
   "file_extension": ".py",
   "mimetype": "text/x-python",
   "name": "python",
   "nbconvert_exporter": "python",
   "pygments_lexer": "ipython3",
   "version": "3.6.9"
  }
 },
 "nbformat": 4,
 "nbformat_minor": 2
}
